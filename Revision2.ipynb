{
  "nbformat": 4,
  "nbformat_minor": 0,
  "metadata": {
    "colab": {
      "name": "Revision2.ipynb",
      "provenance": [],
      "authorship_tag": "ABX9TyPC4HRUNmvhAA1nTgVSQOIm",
      "include_colab_link": true
    },
    "kernelspec": {
      "name": "python3",
      "display_name": "Python 3"
    }
  },
  "cells": [
    {
      "cell_type": "markdown",
      "metadata": {
        "id": "view-in-github",
        "colab_type": "text"
      },
      "source": [
        "<a href=\"https://colab.research.google.com/github/chavan-nj/python/blob/master/Revision2.ipynb\" target=\"_parent\"><img src=\"https://colab.research.google.com/assets/colab-badge.svg\" alt=\"Open In Colab\"/></a>"
      ]
    },
    {
      "cell_type": "markdown",
      "metadata": {
        "id": "1aJs9OHO2U3x"
      },
      "source": [
        "1)Input 4 integers (+ve and −ve). Write a Python code to find the sum of negative numbers, positive numbers, and print them. Also, find the averages of these two groups of numbers and print."
      ]
    },
    {
      "cell_type": "code",
      "metadata": {
        "colab": {
          "base_uri": "https://localhost:8080/"
        },
        "id": "INSSwHiG2wbf",
        "outputId": "526b310d-19cb-4d56-b6e5-b59719a77414"
      },
      "source": [
        " \n",
        "b=[]\n",
        "for i in range(0,4):\n",
        "    a=int(input(\"Element: \"))\n",
        "    b.append(a)\n",
        "sum1=0\n",
        "sum2=0\n",
        "avg1=0\n",
        "avg2=0\n",
        "count1=0\n",
        "count2=0\n",
        "for j in b:\n",
        "    if(j>0):\n",
        "      \n",
        "      sum1=sum1+j\n",
        "      count1=count1+1\n",
        " \n",
        "    else:\n",
        "        sum2=sum2+j\n",
        "        count2=count2+1\n",
        " \n",
        "avg1=sum1/count1\n",
        "avg2=sum2/count2\n",
        "        \n",
        "print(\"Sum of all positive:\",sum1,\",Average=\",avg1)\n",
        "print(\"Sum of all Negative:\",sum2,\",Average=\",avg2)"
      ],
      "execution_count": null,
      "outputs": [
        {
          "output_type": "stream",
          "text": [
            "Element: 3\n",
            "Element: 1\n",
            "Element: -3\n",
            "Element: 6\n",
            "Sum of all positive: 10 ,Average= 3.3333333333333335\n",
            "Sum of all Negative: -3 ,Average= -3.0\n"
          ],
          "name": "stdout"
        }
      ]
    },
    {
      "cell_type": "markdown",
      "metadata": {
        "id": "uskw1PUP7hoj"
      },
      "source": [
        " 2)Write a Python code to create a function called list_of_frequency that takes a string and prints the letters in non-increasing order of the frequency of their occurrences. Use dictionaries."
      ]
    },
    {
      "cell_type": "code",
      "metadata": {
        "colab": {
          "base_uri": "https://localhost:8080/"
        },
        "id": "2rZe_pKG7u5B",
        "outputId": "6c7bb8e2-c27d-48df-85e2-ceeec79b8bbf"
      },
      "source": [
        " \n",
        "def list_of_frequency():\n",
        " \n",
        "    mystr= input(\"input the string\")\n",
        "    frequencies = {} \n",
        "  \n",
        "for char in mystr: \n",
        "   if char in frequencies: \n",
        "      frequencies[char] += 1\n",
        "   else: \n",
        "      frequencies[char] = 1\n",
        " \n",
        "print (\"frequency in '{}' is :\\n {}\".format(mystr, str(frequencies)))"
      ],
      "execution_count": null,
      "outputs": [
        {
          "output_type": "stream",
          "text": [
            "frequency in 'Hoho' is :\n",
            " {'H': 2, 'o': 4, 'h': 2}\n"
          ],
          "name": "stdout"
        }
      ]
    },
    {
      "cell_type": "markdown",
      "metadata": {
        "id": "qrvrWF7a-p6W"
      },
      "source": [
        " 3) Write a Python program to read a list of numbers and sort the list in a nondecreasing order without using any built in functions. Separate function should be written to sort the list wherein the name of the list is passed as the parameter."
      ]
    },
    {
      "cell_type": "code",
      "metadata": {
        "colab": {
          "base_uri": "https://localhost:8080/"
        },
        "id": "dbnNIZZPA1Pz",
        "outputId": "360908aa-711b-4212-f666-721699597bf1"
      },
      "source": [
        " \n",
        " unsorted_list = [3, 1, 0, 9, 4]\n",
        " sorted_list=[]\n",
        " while unsorted_list:\n",
        "     minimum = unsorted_list[0]\n",
        "     for item in unsorted_list:\n",
        "           if item < minimum:\n",
        "              minimum = item\n",
        "     sorted_list.append(minimum)\n",
        "     unsorted_list.remove(minimum)\n",
        " \n",
        "print(sorted_list)"
      ],
      "execution_count": null,
      "outputs": [
        {
          "output_type": "stream",
          "text": [
            "[0, 1, 3, 4, 9]\n"
          ],
          "name": "stdout"
        }
      ]
    },
    {
      "cell_type": "markdown",
      "metadata": {
        "id": "Cu25wFXfCaFA"
      },
      "source": [
        " 4) Write a Python code to determine whether the given string is a Palindrome or not using slicing. Do not use any string function."
      ]
    },
    {
      "cell_type": "code",
      "metadata": {
        "id": "AC6IS3pKCmoN"
      },
      "source": [
        "def Palindrome(s):\n",
        " \n",
        "    return s == s[::-1]\n",
        " \n",
        "s=input(\"enter the string (case sensitive) :\")\n",
        " \n",
        "ans = Palindrome(s)\n",
        " \n",
        " \n",
        "if ans:\n",
        " \n",
        "    print(\"Yes, it is palindrome\")\n",
        " \n",
        "else:\n",
        " \n",
        "    print(\"No, it is not palindrome\")"
      ],
      "execution_count": null,
      "outputs": []
    },
    {
      "cell_type": "markdown",
      "metadata": {
        "id": "Q0XmpOWIEhaF"
      },
      "source": [
        " 4)Write a Python program to find the value for sin(x) up to n terms where x is in degrees."
      ]
    },
    {
      "cell_type": "code",
      "metadata": {
        "colab": {
          "base_uri": "https://localhost:8080/"
        },
        "id": "ojQeb3PgF4-A",
        "outputId": "771ee06e-65ec-4860-edc0-3766c91388f6"
      },
      "source": [
        "import math\n",
        "def fact(k):\n",
        "   if k<=1:\n",
        "     return 1\n",
        "   else:\n",
        "     return k* fact(k-1)\n",
        " \n",
        "step=int(input(\"enter the no of terms\"))\n",
        "x=int(input(\"enter the value of x\"))\n",
        "sum=0\n",
        "for i in range(step+1):\n",
        "   sum+=(math.pow(-1,i)*math.pow(x,2*i+1))/fact(2*i+1)\n",
        "print(\"The result of sin(\",step,\")\",sum)"
      ],
      "execution_count": null,
      "outputs": [
        {
          "output_type": "stream",
          "text": [
            "enter the no of terms5\n",
            "enter the value of x6\n",
            "The result of sin( 5 ) -2.0602597402597436\n"
          ],
          "name": "stdout"
        }
      ]
    },
    {
      "cell_type": "markdown",
      "metadata": {
        "id": "s7_yhDmREqum"
      },
      "source": [
        "6) Write a Python program to check the validity of a password given by the user.\n",
        "The Password should satisfy the following criteria:\n",
        "1. Contains at least one letter between a and z\n",
        "2. Contains at least one number between 0 and 9\n",
        "3. Contains at least one letter between A and Z\n",
        "4. Contains at least one special character from $, #, @\n",
        "5. Minimum length of password: 6"
      ]
    },
    {
      "cell_type": "code",
      "metadata": {
        "id": "sc2EiJcfIjcm",
        "colab": {
          "base_uri": "https://localhost:8080/"
        },
        "outputId": "ea72acc3-589b-4fef-867b-1c55f1a3f379"
      },
      "source": [
        "password=input(\"Enter the password\")\n",
        "upper=False\n",
        "lower=False\n",
        "number=False\n",
        "special=False\n",
        "num=['0','1','2','3','4','5','6','7','8','9']\n",
        " \n",
        "if len(password)<6:\n",
        "   print(\"Password length is too short, minimum length should 6\")\n",
        "else:\n",
        "   for i in password:\n",
        "      if i.isupper()==True:\n",
        "         upper=True\n",
        "      elif i in num:\n",
        "         number=True\n",
        "      elif i.islower()==True:\n",
        "         lower=True\n",
        "      elif i==\"$\" or i==\"#\" or i==\"@\":\n",
        "         special=True\n",
        "if upper==True and lower==True and number==True and special==True:\n",
        "   print(\"Password accepted\")\n",
        "else:\n",
        "   print(\"Password not accepted\")"
      ],
      "execution_count": 53,
      "outputs": [
        {
          "output_type": "stream",
          "text": [
            "Enter the passwordLbs@2002\n",
            "Password accepted\n"
          ],
          "name": "stdout"
        }
      ]
    },
    {
      "cell_type": "markdown",
      "metadata": {
        "id": "xJ3e7Ocs-HXk"
      },
      "source": [
        ""
      ]
    }
  ]
}