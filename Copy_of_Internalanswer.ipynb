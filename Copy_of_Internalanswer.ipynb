{
  "nbformat": 4,
  "nbformat_minor": 0,
  "metadata": {
    "colab": {
      "name": "Copy of Internalanswer.ipynb",
      "provenance": [],
      "collapsed_sections": [],
      "authorship_tag": "ABX9TyNqUSyiEohYWcxM6QNSLoZl",
      "include_colab_link": true
    },
    "kernelspec": {
      "name": "python3",
      "display_name": "Python 3"
    }
  },
  "cells": [
    {
      "cell_type": "markdown",
      "metadata": {
        "id": "view-in-github",
        "colab_type": "text"
      },
      "source": [
        "<a href=\"https://colab.research.google.com/github/chavan-nj/python/blob/master/Copy_of_Internalanswer.ipynb\" target=\"_parent\"><img src=\"https://colab.research.google.com/assets/colab-badge.svg\" alt=\"Open In Colab\"/></a>"
      ]
    },
    {
      "cell_type": "markdown",
      "metadata": {
        "id": "UCtMHIbGl1I2"
      },
      "source": [
        "1.Reverse lookup in a dictionary"
      ]
    },
    {
      "cell_type": "code",
      "metadata": {
        "colab": {
          "base_uri": "https://localhost:8080/",
          "height": 35
        },
        "id": "Ls5lKpZ3l50P",
        "outputId": "0dd05ee9-eab8-401d-f928-363699e372e9"
      },
      "source": [
        " \n",
        "def reverse_lookup(d, v):\n",
        "    for k in d:\n",
        "        if d[k] == v:\n",
        "            return k\n",
        "dict1 = {'a': 1, 'c': 10, 'b': 4}\n",
        "reverse_lookup(dict1, 10)"
      ],
      "execution_count": null,
      "outputs": [
        {
          "output_type": "execute_result",
          "data": {
            "application/vnd.google.colaboratory.intrinsic+json": {
              "type": "string"
            },
            "text/plain": [
              "'c'"
            ]
          },
          "metadata": {
            "tags": []
          },
          "execution_count": 2
        }
      ]
    },
    {
      "cell_type": "markdown",
      "metadata": {
        "id": "x7o6GOiqmGq4"
      },
      "source": [
        "2.python class rectangle to find area and perimeter"
      ]
    },
    {
      "cell_type": "code",
      "metadata": {
        "colab": {
          "base_uri": "https://localhost:8080/"
        },
        "id": "X8fT8eMymVbq",
        "outputId": "17c4f364-1c5c-4a2f-808e-0d1bbb5a7ddc"
      },
      "source": [
        "class Rectange:\n",
        "    def __init__(self,width=0,height=0):\n",
        "        self.width = width\n",
        "        self.height = height\n",
        "        \n",
        " \n",
        " \n",
        "    def area(self):\n",
        " \n",
        "      print(\"Area:\",self.height*self.width)\n",
        " \n",
        "    def perimeter(self):\n",
        "      print(\"Perimeter:\", 2*(self.height+self.width))\n",
        " \n",
        "ob = Rectange(10,5)\n",
        " \n",
        "ob.area()\n",
        "ob.perimeter()"
      ],
      "execution_count": null,
      "outputs": [
        {
          "output_type": "stream",
          "text": [
            "Area: 50\n",
            "Perimeter: 30\n"
          ],
          "name": "stdout"
        }
      ]
    },
    {
      "cell_type": "markdown",
      "metadata": {
        "id": "Sz8Dq8s7mo87"
      },
      "source": [
        "3. Program to remove duplicates from list"
      ]
    },
    {
      "cell_type": "code",
      "metadata": {
        "colab": {
          "base_uri": "https://localhost:8080/"
        },
        "id": "sNFJjYT6mxBn",
        "outputId": "8b2e73ea-802c-4cbc-c521-9642a6cf8b8e"
      },
      "source": [
        "def remove(duplicate):\n",
        "  final_list =[]\n",
        "  for num in duplicate:\n",
        "      if num not in final_list:\n",
        "          final_list.append(num)\n",
        "      return final_list\n",
        "duplicate = [2,2]\n",
        "print(remove(duplicate))"
      ],
      "execution_count": null,
      "outputs": [
        {
          "output_type": "stream",
          "text": [
            "[2]\n"
          ],
          "name": "stdout"
        }
      ]
    },
    {
      "cell_type": "markdown",
      "metadata": {
        "id": "BYvS2blyooWv"
      },
      "source": [
        "4. Class polygon"
      ]
    },
    {
      "cell_type": "code",
      "metadata": {
        "colab": {
          "base_uri": "https://localhost:8080/"
        },
        "id": "Juy0i3rLoxTw",
        "outputId": "2d69ba71-a4a9-41f4-afb3-26febc6882e7"
      },
      "source": [
        " \n",
        "class Polygon:\n",
        "    def __init__(self,number,name):\n",
        "        self.number = number\n",
        "        self.name=name\n",
        "        self.sides=[]\n",
        "    def inputsides(self):\n",
        "      print(self.name)\n",
        "      for i in range(0,self.number):\n",
        "            e=float(input(\"Enter side \"+str(i+1)+\" : \"))\n",
        "            self.sides.append(e)\n",
        "class Triangle(Polygon):\n",
        "    def __init__(self):\n",
        "        Polygon.__init__(self, 3 ,\"TRIANGLE :\")\n",
        " \n",
        "    def triangle_area(self):\n",
        "        a, b, c = self.sides\n",
        "        s = (a + b + c) / 2\n",
        "        area = (s*(s-a)*(s-b)*(s-c)) ** 0.5\n",
        "        print(\"The area of the triangle is : %0.2f  \" % area)\n",
        " \n",
        "class Square(Polygon):\n",
        " \n",
        "    def __init__(self):\n",
        "        Polygon.__init__(self, 4, \"SQUARE :\")\n",
        " \n",
        "    def inputsides(self):\n",
        "      print(self.name)\n",
        "      self.sides=float(input(\"Enter side  : \"))\n",
        "      \n",
        "    \n",
        "    def square_Area(self):\n",
        "        a = self.sides\n",
        "        area=a**2\n",
        "        print(\"The area of square is : %0.2f  \" % area)\n",
        " \n",
        " \n",
        "obj = Triangle()\n",
        "obj.inputsides() #BASE\n",
        "obj.triangle_area()\n",
        " \n",
        "rob = Square()\n",
        "rob.inputsides() #DERIVED\n",
        "rob.square_Area()"
      ],
      "execution_count": null,
      "outputs": [
        {
          "output_type": "stream",
          "text": [
            "TRIANGLE :\n",
            "Enter side 1 : 5\n",
            "Enter side 2 : 5\n",
            "Enter side 3 : 5\n",
            "The area of the triangle is : 10.83  \n",
            "SQUARE :\n",
            "Enter side  : 5\n",
            "The area of square is : 25.00  \n"
          ],
          "name": "stdout"
        }
      ]
    }
  ]
}