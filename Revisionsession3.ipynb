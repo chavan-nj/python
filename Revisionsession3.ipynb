{
  "nbformat": 4,
  "nbformat_minor": 0,
  "metadata": {
    "colab": {
      "name": "Revisionsession3.ipynb",
      "provenance": [],
      "authorship_tag": "ABX9TyO8Mv3ibyZsFDA6Pt4E+RDo",
      "include_colab_link": true
    },
    "kernelspec": {
      "name": "python3",
      "display_name": "Python 3"
    }
  },
  "cells": [
    {
      "cell_type": "markdown",
      "metadata": {
        "id": "view-in-github",
        "colab_type": "text"
      },
      "source": [
        "<a href=\"https://colab.research.google.com/github/chavan-nj/python/blob/master/Revisionsession3.ipynb\" target=\"_parent\"><img src=\"https://colab.research.google.com/assets/colab-badge.svg\" alt=\"Open In Colab\"/></a>"
      ]
    },
    {
      "cell_type": "markdown",
      "metadata": {
        "id": "Gs0PQe2owf_D"
      },
      "source": [
        " Write a python program using list to store and display the average of N Integers accepted from the\n",
        "\n",
        "user"
      ]
    },
    {
      "cell_type": "code",
      "metadata": {
        "colab": {
          "base_uri": "https://localhost:8080/"
        },
        "id": "wGgmOUK5wY-d",
        "outputId": "659c1f8b-5f55-4a07-a27e-601609054838"
      },
      "source": [
        " \n",
        "n=int(input(\"Enter the number of elements: \"))\n",
        "a=[]\n",
        "for i in range(0,n):\n",
        "    element=int(input(\"Enter element: \"))\n",
        "    a.append(element)\n",
        "avg=sum(a)/n\n",
        "print(\"Average of elements in the list\",round(avg,2))"
      ],
      "execution_count": null,
      "outputs": [
        {
          "output_type": "stream",
          "text": [
            "Enter the number of elements to be inserted: 5\n",
            "Enter element: 1\n",
            "Enter element: 2\n",
            "Enter element: 3\n",
            "Enter element: 4\n",
            "Enter element: 5\n",
            "Average of elements in the list 3.0\n"
          ],
          "name": "stdout"
        }
      ]
    },
    {
      "cell_type": "markdown",
      "metadata": {
        "id": "knSaxZ8Pw54v"
      },
      "source": [
        " Write a Python program to create a list by\n",
        " \n",
        "concatenating a given list which range goes from 1 to n."
      ]
    },
    {
      "cell_type": "code",
      "metadata": {
        "colab": {
          "base_uri": "https://localhost:8080/"
        },
        "id": "ldcNmOiXxcxA",
        "outputId": "46510c06-8615-4ea3-cf83-d156e642e121"
      },
      "source": [
        "my_list = ['a', 'b','c']\n",
        "n = 3\n",
        "new_list = ['{}{}'.format(x, y) for y in range(1, n+1) for x in my_list]\n",
        "print(new_list)"
      ],
      "execution_count": 25,
      "outputs": [
        {
          "output_type": "stream",
          "text": [
            "['a1', 'b1', 'c1', 'a2', 'b2', 'c2', 'a3', 'b3', 'c3']\n"
          ],
          "name": "stdout"
        }
      ]
    },
    {
      "cell_type": "markdown",
      "metadata": {
        "id": "TG8px9EByYkq"
      },
      "source": [
        " Write a Python program to check whether a list contains a sublist"
      ]
    },
    {
      "cell_type": "code",
      "metadata": {
        "id": "6GydSNMI1i4R"
      },
      "source": [
        ""
      ],
      "execution_count": null,
      "outputs": []
    },
    {
      "cell_type": "markdown",
      "metadata": {
        "id": "V2baOTJf1jIj"
      },
      "source": [
        " Write a Python program to get the frequency of the elements in a list"
      ]
    },
    {
      "cell_type": "code",
      "metadata": {
        "colab": {
          "base_uri": "https://localhost:8080/"
        },
        "id": "u9Lld3Kf2Ufh",
        "outputId": "d5761bee-66fc-4476-c74e-50375e7f55d6"
      },
      "source": [
        "def Frequency(my_list): \n",
        " \n",
        "      \n",
        " \n",
        "   \n",
        " \n",
        "    freq = {} \n",
        " \n",
        "    for items in my_list: \n",
        " \n",
        "        freq[items] = my_list.count(items) \n",
        " \n",
        "      \n",
        " \n",
        "    for key, value in freq.items(): \n",
        " \n",
        "        print (\"% d : % d\"%(key, value)) \n",
        " \n",
        "  \n",
        " \n",
        " \n",
        "if __name__ == \"__main__\":  \n",
        " \n",
        "    my_list =[1, 1,3 , 3,4,6,5, 5, 3, 1, 4, 7, 4, 2, 2, 9,9,9 ,2] \n",
        " \n",
        "    Frequency(my_list)"
      ],
      "execution_count": 24,
      "outputs": [
        {
          "output_type": "stream",
          "text": [
            " 1 :  3\n",
            " 3 :  3\n",
            " 4 :  3\n",
            " 6 :  1\n",
            " 5 :  2\n",
            " 7 :  1\n",
            " 2 :  3\n",
            " 9 :  3\n"
          ],
          "name": "stdout"
        }
      ]
    },
    {
      "cell_type": "markdown",
      "metadata": {
        "id": "UW26wwlE3a79"
      },
      "source": [
        " Write a python program to find second largest number in a list"
      ]
    },
    {
      "cell_type": "code",
      "metadata": {
        "colab": {
          "base_uri": "https://localhost:8080/"
        },
        "id": "4WyhcDhy3wWA",
        "outputId": "f51bd529-2515-4e08-89a9-48289c66088e"
      },
      "source": [
        "list1 = [10, 20, 4, 45, 99]\n",
        " \n",
        "list1.sort()\n",
        " \n",
        "print(\"Second largest element is:\", list1[-2])"
      ],
      "execution_count": 26,
      "outputs": [
        {
          "output_type": "stream",
          "text": [
            "Second largest element is: 45\n"
          ],
          "name": "stdout"
        }
      ]
    },
    {
      "cell_type": "markdown",
      "metadata": {
        "id": "oDRYLKCg4cZd"
      },
      "source": [
        "Write a python program to count the number of elements in a list with in a specific range."
      ]
    },
    {
      "cell_type": "code",
      "metadata": {
        "colab": {
          "base_uri": "https://localhost:8080/"
        },
        "id": "TennlLlD49dJ",
        "outputId": "5ee24560-a7aa-4435-9b10-3b30c8f44880"
      },
      "source": [
        "def countelements(list1, l, r): \n",
        " \n",
        "    count = 0 \n",
        " \n",
        "    \n",
        " \n",
        "    for x in list1: \n",
        " \n",
        "        \n",
        " \n",
        "        if x>= l and x<= r: \n",
        " \n",
        "            count+= 1 \n",
        " \n",
        "    return count\n",
        " \n",
        "      \n",
        " \n",
        " \n",
        "list1 = [1, 2, 3, 4, 5, 4, 4, 6, 7] \n",
        " \n",
        "l = 4\n",
        " \n",
        "r = 8\n",
        " \n",
        "print(countelements(list1, l, r))"
      ],
      "execution_count": 34,
      "outputs": [
        {
          "output_type": "stream",
          "text": [
            "6\n"
          ],
          "name": "stdout"
        }
      ]
    },
    {
      "cell_type": "markdown",
      "metadata": {
        "id": "YUcLMmm934Aa"
      },
      "source": [
        " Write a Python program to find the second smallest number in a list."
      ]
    },
    {
      "cell_type": "code",
      "metadata": {
        "colab": {
          "base_uri": "https://localhost:8080/"
        },
        "id": "C48ayzz64FhG",
        "outputId": "3fca3461-30a0-4fa2-da08-148a67eebe54"
      },
      "source": [
        "list1 = [10, 20, 4, 45, 99]\n",
        " \n",
        "list1.sort()\n",
        " \n",
        "print(\"Second smallest element is:\", list1[1])"
      ],
      "execution_count": 35,
      "outputs": [
        {
          "output_type": "stream",
          "text": [
            "Second smallest element is: 10\n"
          ],
          "name": "stdout"
        }
      ]
    }
  ]
}
