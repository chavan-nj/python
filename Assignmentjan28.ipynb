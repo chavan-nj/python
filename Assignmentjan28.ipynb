{
  "nbformat": 4,
  "nbformat_minor": 0,
  "metadata": {
    "colab": {
      "name": "Assignmentjan28.ipynb",
      "provenance": [],
      "authorship_tag": "ABX9TyPQLbMoiLcuBKD9fYdfSDsH",
      "include_colab_link": true
    },
    "kernelspec": {
      "name": "python3",
      "display_name": "Python 3"
    }
  },
  "cells": [
    {
      "cell_type": "markdown",
      "metadata": {
        "id": "view-in-github",
        "colab_type": "text"
      },
      "source": [
        "<a href=\"https://colab.research.google.com/github/chavan-nj/python/blob/master/Assignmentjan28.ipynb\" target=\"_parent\"><img src=\"https://colab.research.google.com/assets/colab-badge.svg\" alt=\"Open In Colab\"/></a>"
      ]
    },
    {
      "cell_type": "markdown",
      "metadata": {
        "id": "6Z37Pa5NVPlA"
      },
      "source": [
        "1)Write a python program to find the sum of all odd terms in a group of n numbers"
      ]
    },
    {
      "cell_type": "code",
      "metadata": {
        "id": "_hohf1EaVU6G",
        "colab": {
          "base_uri": "https://localhost:8080/",
          "height": 148
        },
        "outputId": "8b6e3017-b65b-4031-a62d-d5ac8e772304"
      },
      "source": [
        "n=int(input(\"Enter n value:\"))\n",
        "sum=0\n",
        "for i in n:\n",
        "    num=int(input(\"enter the number\")\n",
        "    \n",
        "   if num % 2!=0:\n",
        "       sum=sum+num\n",
        "    else:\n",
        "       pass\n",
        "print(sum)"
      ],
      "execution_count": null,
      "outputs": [
        {
          "output_type": "error",
          "ename": "SyntaxError",
          "evalue": "ignored",
          "traceback": [
            "\u001b[0;36m  File \u001b[0;32m\"<ipython-input-42-6faafd6abc53>\"\u001b[0;36m, line \u001b[0;32m6\u001b[0m\n\u001b[0;31m    if num % 2!=0:\u001b[0m\n\u001b[0m                 ^\u001b[0m\n\u001b[0;31mSyntaxError\u001b[0m\u001b[0;31m:\u001b[0m invalid syntax\n"
          ]
        }
      ]
    },
    {
      "cell_type": "markdown",
      "metadata": {
        "id": "YCiFJaVJajof"
      },
      "source": [
        "2) What is the use of pass statement in Python?"
      ]
    },
    {
      "cell_type": "markdown",
      "metadata": {
        "id": "IoxQiBT4a439"
      },
      "source": [
        "When the pass statement is executed, nothing happens, but you avoid getting an error when empty code is not allowed. Empty code is not allowed in loops, function definitions, class definitions, or in if statements."
      ]
    },
    {
      "cell_type": "code",
      "metadata": {
        "id": "gMijBBj1bF3a"
      },
      "source": [
        "for i in [0,10]:\n",
        "  pass"
      ],
      "execution_count": null,
      "outputs": []
    },
    {
      "cell_type": "markdown",
      "metadata": {
        "id": "n9L5eN2AbREV"
      },
      "source": [
        "3)Write a Python code to check whether two strings are equal or not."
      ]
    },
    {
      "cell_type": "code",
      "metadata": {
        "colab": {
          "base_uri": "https://localhost:8080/"
        },
        "id": "kzhhTaysbcxZ",
        "outputId": "a5a346d6-3c2a-4461-80a4-6c8abdfdd20b"
      },
      "source": [
        "string1 = input(\"Enter the first string: \") \n",
        "print(string1)\n",
        " \n",
        "string2 = input(\"Enter the second string: \")  \n",
        "print(string2)\n",
        " \n",
        "print(\"Are both strings same: \")  \n",
        " \n",
        " \n",
        "if (string1 == string2) :  \n",
        " \n",
        "     print(\"Yes\") \n",
        " \n",
        "else :  \n",
        " \n",
        "      print(\"No\")"
      ],
      "execution_count": null,
      "outputs": [
        {
          "output_type": "stream",
          "text": [
            "Enter the first string: Hi\n",
            "Hi\n",
            "Enter the second string: Hi\n",
            "Hi\n",
            "Are both strings same: \n",
            "Yes\n"
          ],
          "name": "stdout"
        }
      ]
    },
    {
      "cell_type": "markdown",
      "metadata": {
        "id": "mM_3TN2Wc7L7"
      },
      "source": [
        "4) Write a Python code to search an element in a list."
      ]
    },
    {
      "cell_type": "code",
      "metadata": {
        "colab": {
          "base_uri": "https://localhost:8080/"
        },
        "id": "JpfsPaBGd4Pw",
        "outputId": "66427534-28c7-44dc-b6c5-a723042da932"
      },
      "source": [
        "def searchlist(list,n): \n",
        " \n",
        "  \n",
        "    for i in range(len(list)): \n",
        " \n",
        "        if list[i] == n: \n",
        " \n",
        "            return True\n",
        " \n",
        "    return False\n",
        " \n",
        " \n",
        " \n",
        "list = [1, 'Lbs', 3,4,'List', 6] \n",
        " \n",
        " \n",
        "n = input(\"enter the element to be searched \")\n",
        " \n",
        "  \n",
        " \n",
        "if searchlist(list, n): \n",
        " \n",
        "    print(\"Found\") \n",
        "    print(list)\n",
        " \n",
        "else: \n",
        " \n",
        "    print(\"Not Found\")\n",
        "    print(list)"
      ],
      "execution_count": null,
      "outputs": [
        {
          "output_type": "stream",
          "text": [
            "enter the element to be searched Lbs\n",
            "Found\n",
            "[1, 'Lbs', 3, 4, 'List', 6]\n"
          ],
          "name": "stdout"
        }
      ]
    },
    {
      "cell_type": "markdown",
      "metadata": {
        "id": "qg0-g2NSfjef"
      },
      "source": [
        "5) List the advantages of using functions in a program."
      ]
    },
    {
      "cell_type": "markdown",
      "metadata": {
        "id": "chWMbDWpf3bY"
      },
      "source": [
        "Avoid repetition of codes.\n",
        " \n",
        "Increases program readability.\n",
        " \n",
        "Divide a complex problem into simpler ones.\n",
        " \n",
        "Reduces chances of error.\n",
        " \n",
        "Modifying a program becomes easier by using function."
      ]
    },
    {
      "cell_type": "markdown",
      "metadata": {
        "id": "JyQ7_w5Ogbyg"
      },
      "source": [
        "6)State the use of dump method with suitable example."
      ]
    },
    {
      "cell_type": "markdown",
      "metadata": {
        "id": "Op5vqiI3ibv8"
      },
      "source": [
        ""
      ]
    },
    {
      "cell_type": "markdown",
      "metadata": {
        "id": "zUYUarbliccw"
      },
      "source": [
        "7) Write a function exists() which returns True if the given file exists and False if it does not."
      ]
    },
    {
      "cell_type": "code",
      "metadata": {
        "colab": {
          "base_uri": "https://localhost:8080/"
        },
        "id": "qh-iSs52kMty",
        "outputId": "9926a907-bfda-437f-aa2b-d26607d1402a"
      },
      "source": [
        "f = open(\"test.dat\",\"w\")\n",
        "f.write(\"Now is the time\")"
      ],
      "execution_count": null,
      "outputs": [
        {
          "output_type": "execute_result",
          "data": {
            "text/plain": [
              "15"
            ]
          },
          "metadata": {
            "tags": []
          },
          "execution_count": 44
        }
      ]
    },
    {
      "cell_type": "code",
      "metadata": {
        "colab": {
          "base_uri": "https://localhost:8080/"
        },
        "id": "PsG-3i63jHDR",
        "outputId": "095b82e0-e4a0-4772-d3ca-354703779362"
      },
      "source": [
        "import os\n",
        "os.path.exists('test.dat')"
      ],
      "execution_count": null,
      "outputs": [
        {
          "output_type": "execute_result",
          "data": {
            "text/plain": [
              "True"
            ]
          },
          "metadata": {
            "tags": []
          },
          "execution_count": 49
        }
      ]
    },
    {
      "cell_type": "markdown",
      "metadata": {
        "id": "AN5z4dMVmLrQ"
      },
      "source": [
        "8)Why exceptional handling is required in programming?"
      ]
    },
    {
      "cell_type": "markdown",
      "metadata": {
        "id": "bdsJXvdVmwAA"
      },
      "source": [
        " \n",
        "Python has many built-in exceptions that are raised when your program encounters an error (something in the program goes wrong).\n",
        " \n",
        "When these exceptions occur, the Python interpreter stops the current process and passes it to the calling process until it is handled. If not handled, the program will crash.\n",
        "In Python, exceptions can be handled using a try statement.\n",
        " \n",
        "The critical operation which can raise an exception is placed inside the try clause. The code that handles the exceptions is written in the except clause."
      ]
    },
    {
      "cell_type": "markdown",
      "metadata": {
        "id": "zeWwfNQWnDeE"
      },
      "source": [
        "9) Describe the concept of Constructor with an example."
      ]
    },
    {
      "cell_type": "markdown",
      "metadata": {
        "id": "TtM0--GqnmEM"
      },
      "source": [
        "Constructors are generally used for instantiating an object.The task of constructors is to initialize(assign values) to the data members of the class when an object of class is created.In Python the ___ init ___() method is called the constructor and is always called when an object is created."
      ]
    },
    {
      "cell_type": "code",
      "metadata": {
        "id": "ndxa04qconNd"
      },
      "source": [
        "class constructor: \n",
        " \n",
        "    def __init__(self): \n",
        " \n",
        "        self.const = \"constructor\"\n",
        " \n",
        " \n",
        "    def constr(self): \n",
        " \n",
        "        print(self.const)"
      ],
      "execution_count": null,
      "outputs": []
    },
    {
      "cell_type": "markdown",
      "metadata": {
        "id": "d367u6_6pF7S"
      },
      "source": [
        "10)Explain the purpose of _init__() method in Python."
      ]
    },
    {
      "cell_type": "markdown",
      "metadata": {
        "id": "OZTpj-IRpfVw"
      },
      "source": [
        "\"__ init __\" is a reseved method in python classes. It is called as a constructor in object oriented terminology. This method is called when an object is created from a class and it allows the class to initialize the attributes of the class."
      ]
    },
    {
      "cell_type": "markdown",
      "metadata": {
        "id": "tpkzHAsAsYqD"
      },
      "source": [
        "11)(a)Write a Python program to find the largest and second largest of n numbers. Assume n>=3 and all the numbers are distinct. No sorting algorithm should be used.\n",
        "\n",
        "(b) What are arithmetic operators used in Python?\n",
        "Explain each using an example"
      ]
    },
    {
      "cell_type": "code",
      "metadata": {
        "id": "IjGMaJd2sz4_"
      },
      "source": [
        ""
      ],
      "execution_count": null,
      "outputs": []
    },
    {
      "cell_type": "markdown",
      "metadata": {
        "id": "15_y4ygntY7E"
      },
      "source": [
        "b)\n",
        "\n",
        "Operators\n",
        "\n",
        "\"+\"  : \tAddition\t: x + y\t\n",
        "\"-\"  :\tSubtraction\t: x - y\t\n",
        "\"*\"  :\tMultiplication\t: x * y\t\n",
        "\"/\"  :\tDivision\t: x / y\t\n",
        "\"%\"  :\tModulus.  \t: x % y\t\n",
        "\"**\" :\tExponentiation\t: x ** y\t\n",
        "\"//\" :\tFloor division\t: x // y"
      ]
    },
    {
      "cell_type": "markdown",
      "metadata": {
        "id": "kGjhRAmys0Yw"
      },
      "source": [
        "12)\n",
        " \n",
        "(a) Write a Python program to print the odd composite numbers between m and n, where m and n are positive integers greater than 1.\n",
        " \n",
        "(b) Define the following\n",
        " \n",
        "i) Atoms\n",
        " \n",
        "ii) Identifiers\n",
        " \n",
        "iii) Literals"
      ]
    },
    {
      "cell_type": "code",
      "metadata": {
        "id": "LCXeKzfjvpwd"
      },
      "source": [
        ""
      ],
      "execution_count": null,
      "outputs": []
    },
    {
      "cell_type": "markdown",
      "metadata": {
        "id": "oitl6vnKxZBM"
      },
      "source": [
        "b)\n",
        " \n",
        "i)Atom is an open-source cross-platform IDE. It supports packages developed in Node. js and Git version control.\n",
        " \n",
        "ii)Python identifier is a name used to identify a variable, function, class, module or other object. An identifier starts with a letter A to Z or a to z or an underscore (_) followed by zero or more letters, underscores and digits (0 to 9).\n",
        " \n",
        "iii)Literal is a raw data given in a variable or constant. In Python, there are various types of literals they are as follows: Numerical literals,\n",
        "String literals,\n",
        "Boolean literals,\n",
        "Special literals"
      ]
    },
    {
      "cell_type": "markdown",
      "metadata": {
        "id": "XQftHZpCy--h"
      },
      "source": [
        "13)\n",
        " (a) Write a Python code to add two matrices using list. (6)\n",
        "\n",
        "(b) Write a Python program to reverse a string and print whether its palindrome or not. (8)"
      ]
    },
    {
      "cell_type": "code",
      "metadata": {
        "colab": {
          "base_uri": "https://localhost:8080/"
        },
        "id": "xJAw3WZ4zWVa",
        "outputId": "fe83b45d-2d66-44ba-afcb-14b3c9014e23"
      },
      "source": [
        "X = [[1,6,2],\n",
        "    [3 ,4,5],\n",
        "    [6 ,7,8]]\n",
        " \n",
        "Y = [[4,8,1],\n",
        "    [5,6,3],\n",
        "    [4,5,8]]\n",
        " \n",
        "result = [[X[i][j] + Y[i][j]  for j in range(len(X[0]))] for i in range(len(X))]\n",
        " \n",
        "for r in result:\n",
        "   print(r)"
      ],
      "execution_count": null,
      "outputs": [
        {
          "output_type": "stream",
          "text": [
            "[5, 14, 3]\n",
            "[8, 10, 8]\n",
            "[10, 12, 16]\n"
          ],
          "name": "stdout"
        }
      ]
    },
    {
      "cell_type": "code",
      "metadata": {
        "id": "bx-lncwG0Hwn",
        "colab": {
          "base_uri": "https://localhost:8080/"
        },
        "outputId": "32b7df0d-3d03-4a91-d4d0-ae615019068f"
      },
      "source": [
        "def Palindrome(s):\n",
        " \n",
        "    return s == s[::-1]\n",
        " \n",
        "s=input(\"enter the string (case sensitive) :\")\n",
        " \n",
        "ans = Palindrome(s)\n",
        " \n",
        " \n",
        "if ans:\n",
        " \n",
        "    print(\"Yes, it is palindrome\")\n",
        " \n",
        "else:\n",
        " \n",
        "    print(\"No, it is not palindrome\")"
      ],
      "execution_count": null,
      "outputs": [
        {
          "output_type": "stream",
          "text": [
            "enter the string (case sensitive) :HiH\n",
            "Yes, it is palindrome\n"
          ],
          "name": "stdout"
        }
      ]
    },
    {
      "cell_type": "markdown",
      "metadata": {
        "id": "vmfE3lk41Bvu"
      },
      "source": [
        "14)\n",
        " \n",
        "(a) How to create Dictionary in Python? Write a Python program to read and display a sparse matrix using dictionary. (7)\n",
        " \n",
        "(b) Write a program to i) convert all small letters in a string into capital\n",
        "letters\n",
        "ii) find the occurrence of given substring"
      ]
    },
    {
      "cell_type": "markdown",
      "metadata": {
        "id": "K0lAfBa31qM6"
      },
      "source": [
        " \n",
        "Solution\n",
        " \n",
        "a)Creating a dictionary can be done by placing items inside curly braces {} separated by commas.\n",
        " \n",
        "An item has a key and a corresponding value that is expressed as a pair (key: value).\n",
        " \n",
        "While the values can be of any data type and can repeat, keys must be of immutable type (string, number or tuple with immutable elements) and must be unique."
      ]
    },
    {
      "cell_type": "code",
      "metadata": {
        "id": "TcsQ0zrg2HrG",
        "colab": {
          "base_uri": "https://localhost:8080/"
        },
        "outputId": "dbeb4cfb-46ee-429e-abea-2c9e36bec8c1"
      },
      "source": [
        "matrix=[[0,0,0,1,0],\n",
        "        [2,0,0,0,3],\n",
        "        [0,0,0,4,0]]\n",
        "Dict={}\n",
        "print(\"Sparse Matrix\")\n",
        "for i in range(len(matrix)):\n",
        "    print(\"\\n\")\n",
        "    for j in range(len(matrix[i])):\n",
        "        print(matrix[i][j], end=' ')\n",
        "        if matrix[i][j]!=0:\n",
        "            Dict[i,j]=matrix[i][j]\n",
        "print(\"Sparse Matrix can be represented as Dictionary:\")\n",
        "print(Dict)"
      ],
      "execution_count": null,
      "outputs": [
        {
          "output_type": "stream",
          "text": [
            "Sparse Matrix\n",
            "\n",
            "\n",
            "0 0 0 1 0 \n",
            "\n",
            "2 0 0 0 3 \n",
            "\n",
            "0 0 0 4 0 Sparse Matrix can be represented as Dictionary:\n",
            "{(0, 3): 1, (1, 0): 2, (1, 4): 3, (2, 3): 4}\n"
          ],
          "name": "stdout"
        }
      ]
    },
    {
      "cell_type": "markdown",
      "metadata": {
        "id": "ka7i0bX120nr"
      },
      "source": [
        "b)"
      ]
    },
    {
      "cell_type": "code",
      "metadata": {
        "colab": {
          "base_uri": "https://localhost:8080/"
        },
        "id": "K7H3hFRQ24_t",
        "outputId": "8cb05337-a4aa-45ca-acc3-287c32361e6e"
      },
      "source": [
        "string = input(\"Please Enter your Own String : \")\n",
        " \n",
        "string1 = string.upper()\n",
        " \n",
        "print(\"\\nOriginal String in Lowercase  =  \", string)\n",
        "print(\"The Given String in Uppercase =  \", string1)"
      ],
      "execution_count": null,
      "outputs": [
        {
          "output_type": "stream",
          "text": [
            "Please Enter your Own String : Imn\n",
            "\n",
            "Original String in Lowercase  =   Imn\n",
            "The Given String in Uppercase =   IMN\n"
          ],
          "name": "stdout"
        }
      ]
    },
    {
      "cell_type": "markdown",
      "metadata": {
        "id": "sHh9vVya4Dru"
      },
      "source": [
        "ii)"
      ]
    },
    {
      "cell_type": "code",
      "metadata": {
        "colab": {
          "base_uri": "https://localhost:8080/"
        },
        "id": "rvjosYtm35au",
        "outputId": "4891cdd0-d78a-4a1f-ffa8-81d38d581c89"
      },
      "source": [
        "s = 'arunununghhjj'\n",
        "sb = 'nun'\n",
        "results = 0\n",
        "sub_len = len(sb)\n",
        "for i in range(len(s)):\n",
        "    if s[i:i+sub_len] == sb:\n",
        "        results += 1\n",
        "print(results)"
      ],
      "execution_count": null,
      "outputs": [
        {
          "output_type": "stream",
          "text": [
            "2\n"
          ],
          "name": "stdout"
        }
      ]
    },
    {
      "cell_type": "markdown",
      "metadata": {
        "id": "oH5wTkbZ29vC"
      },
      "source": [
        "15.(a) Compare the built-in functions int() and str() with examples. (4)\n",
        "\n",
        "(b) Write a program using function to display a multiplication table of n*n size, for any given „n\". (5)\n",
        "\n",
        "(c) Write a program using function to display a find the binomial coefficient, ncr. (5)"
      ]
    },
    {
      "cell_type": "markdown",
      "metadata": {
        "id": "japfWXq56BiH"
      },
      "source": [
        "\n",
        "solution\n",
        "a)\n",
        "\n",
        "int() converts a value to an integer."
      ]
    },
    {
      "cell_type": "code",
      "metadata": {
        "id": "yCl0PIVx6Dwd"
      },
      "source": [
        "a=int('7')"
      ],
      "execution_count": null,
      "outputs": []
    },
    {
      "cell_type": "code",
      "metadata": {
        "colab": {
          "base_uri": "https://localhost:8080/"
        },
        "id": "n3BceY6O6IJd",
        "outputId": "06c85098-0430-43b2-982d-40d1de7b2b0a"
      },
      "source": [
        "type(a)"
      ],
      "execution_count": null,
      "outputs": [
        {
          "output_type": "execute_result",
          "data": {
            "text/plain": [
              "int"
            ]
          },
          "metadata": {
            "tags": []
          },
          "execution_count": 60
        }
      ]
    },
    {
      "cell_type": "markdown",
      "metadata": {
        "id": "BpXdRbLo6V9S"
      },
      "source": [
        "str() takes an argument and returns the string equivalent of it."
      ]
    },
    {
      "cell_type": "code",
      "metadata": {
        "id": "chXdSr6U6XoI"
      },
      "source": [
        "b=str(\"Hello\")"
      ],
      "execution_count": null,
      "outputs": []
    },
    {
      "cell_type": "code",
      "metadata": {
        "id": "kKO5Ojko6iPm",
        "colab": {
          "base_uri": "https://localhost:8080/"
        },
        "outputId": "86627616-5ae8-4734-cdcc-369d3e33bf84"
      },
      "source": [
        "type(b)"
      ],
      "execution_count": null,
      "outputs": [
        {
          "output_type": "execute_result",
          "data": {
            "text/plain": [
              "str"
            ]
          },
          "metadata": {
            "tags": []
          },
          "execution_count": 62
        }
      ]
    },
    {
      "cell_type": "markdown",
      "metadata": {
        "id": "nAZNc0Bb66-3"
      },
      "source": [
        "b)"
      ]
    },
    {
      "cell_type": "code",
      "metadata": {
        "colab": {
          "base_uri": "https://localhost:8080/"
        },
        "id": "1mq9Hzcs691i",
        "outputId": "6b9ca0d1-171e-43f0-938f-f67590a0b35a"
      },
      "source": [
        "def table(n): \n",
        " \n",
        "    for i in range (1, 11):  \n",
        " \n",
        "        print( \"%d * %d = %d\" % (n, i, n * i))\n",
        " \n",
        "n = 2\n",
        " \n",
        "table(n)"
      ],
      "execution_count": null,
      "outputs": [
        {
          "output_type": "stream",
          "text": [
            "2 * 1 = 2\n",
            "2 * 2 = 4\n",
            "2 * 3 = 6\n",
            "2 * 4 = 8\n",
            "2 * 5 = 10\n",
            "2 * 6 = 12\n",
            "2 * 7 = 14\n",
            "2 * 8 = 16\n",
            "2 * 9 = 18\n",
            "2 * 10 = 20\n"
          ],
          "name": "stdout"
        }
      ]
    },
    {
      "cell_type": "markdown",
      "metadata": {
        "id": "ySSib-Ry7Rxy"
      },
      "source": [
        ""
      ]
    },
    {
      "cell_type": "code",
      "metadata": {
        "id": "G_YzAcr9_Nvu",
        "colab": {
          "base_uri": "https://localhost:8080/"
        },
        "outputId": "d709983b-a342-4635-8774-289eafa9f0b3"
      },
      "source": [
        "def nCr(n, r): \n",
        " \n",
        "  \n",
        " \n",
        "    return (fact(n) / (fact(r)  \n",
        " \n",
        "                * fact(n - r))) \n",
        " \n",
        " \n",
        "def fact(n): \n",
        " \n",
        "  \n",
        " \n",
        "    res = 1\n",
        " \n",
        "      \n",
        " \n",
        "    for i in range(2, n+1): \n",
        " \n",
        "        res = res * i \n",
        " \n",
        "          \n",
        " \n",
        "    return res \n",
        " \n",
        " \n",
        "n = \n",
        " \n",
        "r = 3\n",
        " \n",
        "print(int(nCr(n, r)))"
      ],
      "execution_count": null,
      "outputs": [
        {
          "output_type": "stream",
          "text": [
            "10\n"
          ],
          "name": "stdout"
        }
      ]
    },
    {
      "cell_type": "markdown",
      "metadata": {
        "id": "_R-wlDsg7S7a"
      },
      "source": [
        "16 (a). What is recursion? Write a recursive function to find the factorial of a number. (6) \n",
        " \n",
        "(b) Write a program using function to check the type of a triangle by getting the values from the user. (8)"
      ]
    },
    {
      "cell_type": "markdown",
      "metadata": {
        "id": "53RVMpCp8Hgt"
      },
      "source": [
        "solution\n",
        " \n",
        "a) Recursion is the process of defining something in terms of itself.\n",
        "a function can call other functions. It is even possible for the function to call itself. These types of construct are termed as recursive functions."
      ]
    },
    {
      "cell_type": "code",
      "metadata": {
        "colab": {
          "base_uri": "https://localhost:8080/"
        },
        "id": "JT6j9O208qXG",
        "outputId": "a1b01b0e-d555-4c0a-f064-76a4c42befaf"
      },
      "source": [
        "def factorial(x):\n",
        "    if x == 1:\n",
        "        return 1\n",
        "    else:\n",
        "        return (x * factorial(x-1))\n",
        " \n",
        " \n",
        "num = 4\n",
        "print(\"The factorial of\", num, \"is\", factorial(num))"
      ],
      "execution_count": null,
      "outputs": [
        {
          "output_type": "stream",
          "text": [
            "The factorial of 4 is 24\n"
          ],
          "name": "stdout"
        }
      ]
    },
    {
      "cell_type": "code",
      "metadata": {
        "id": "Gvx52PrD9MTA"
      },
      "source": [
        ""
      ],
      "execution_count": null,
      "outputs": []
    },
    {
      "cell_type": "markdown",
      "metadata": {
        "id": "NjFrjoub9Mno"
      },
      "source": [
        " 17)\n",
        "(a) How exceptions are handled in Python? Illustrate with example. (10)\n",
        "\n",
        "(b) Write a program to read numbers sorted in one file and store the sorted numbers in another file after deleting duplicates. (4)"
      ]
    },
    {
      "cell_type": "markdown",
      "metadata": {
        "id": "3CHuOsPX92fS"
      },
      "source": [
        " \n",
        "solution\n",
        " \n",
        "a)\n",
        "In Python, exceptions can be handled using a try statement.\n",
        " \n",
        "The critical operation which can raise an exception is placed inside the try clause. The code that handles the exceptions is written in the except clause"
      ]
    },
    {
      "cell_type": "code",
      "metadata": {
        "colab": {
          "base_uri": "https://localhost:8080/"
        },
        "id": "EwipIJld98Pr",
        "outputId": "bb69fd4c-f8e4-4d33-9dc4-a4a28811260d"
      },
      "source": [
        "try:  \n",
        "    a = int(input(\"Enter a:\"))    \n",
        "    b = int(input(\"Enter b:\"))    \n",
        "    c = a/b  \n",
        "except:  \n",
        "    print(\"Can't divide with zero\")"
      ],
      "execution_count": null,
      "outputs": [
        {
          "output_type": "stream",
          "text": [
            "Enter a:4\n",
            "Enter b:0\n",
            "Can't divide with zero\n"
          ],
          "name": "stdout"
        }
      ]
    }
  ]
}