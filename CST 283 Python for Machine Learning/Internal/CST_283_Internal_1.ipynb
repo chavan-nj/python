{
  "nbformat": 4,
  "nbformat_minor": 0,
  "metadata": {
    "colab": {
      "name": "Copy of Internal",
      "provenance": [],
      "authorship_tag": "ABX9TyPjstUIZaMkWSf25WyTSJue",
      "include_colab_link": true
    },
    "kernelspec": {
      "name": "python3",
      "display_name": "Python 3"
    }
  },
  "cells": [
    {
      "cell_type": "markdown",
      "metadata": {
        "id": "view-in-github",
        "colab_type": "text"
      },
      "source": [
        "<a href=\"https://colab.research.google.com/github/chavan-nj/python/blob/master/CST%20283%20Python%20for%20Machine%20Learning/Internal/CST_283_Internal_1.ipynb\" target=\"_parent\"><img src=\"https://colab.research.google.com/assets/colab-badge.svg\" alt=\"Open In Colab\"/></a>"
      ]
    },
    {
      "cell_type": "markdown",
      "metadata": {
        "id": "4X0fhmhdTAAz"
      },
      "source": [
        "2."
      ]
    },
    {
      "cell_type": "code",
      "metadata": {
        "id": "YJA6Av25TWRL",
        "outputId": "39ff2639-3fae-4334-de69-38e9fddeab0b",
        "colab": {
          "base_uri": "https://localhost:8080/"
        }
      },
      "source": [
        "from math import pi,pow\n",
        "radius = float(input(\"Enter the radius of the sphere\"))\n",
        "def volume(radius):\n",
        "  return (4/3)*pi*pow(radius,3)\n",
        "print(\"Volume of the sphere will be \" ,volume(radius))"
      ],
      "execution_count": null,
      "outputs": [
        {
          "output_type": "stream",
          "text": [
            "Enter the radius of the sphere3\n",
            "Volume of the sphere will be  113.09733552923254\n"
          ],
          "name": "stdout"
        }
      ]
    },
    {
      "cell_type": "markdown",
      "metadata": {
        "id": "FK3S48EWVC2s"
      },
      "source": [
        "3"
      ]
    },
    {
      "cell_type": "code",
      "metadata": {
        "id": "r0XGGm14VD_2",
        "outputId": "0416dcc0-68a9-4a58-9731-4d0c09327dd8",
        "colab": {
          "base_uri": "https://localhost:8080/",
          "height": 356
        }
      },
      "source": [
        " \n",
        "def sum(n):\n",
        "   n = int(input(\"Enter the number\"))\n",
        "sumofn=0\n",
        "for i in range(n+1):\n",
        "   sumofn +=i\n",
        "return sumofn"
      ],
      "execution_count": null,
      "outputs": [
        {
          "output_type": "error",
          "ename": "NameError",
          "evalue": "ignored",
          "traceback": [
            "\u001b[0;31m---------------------------------------------------------------------------\u001b[0m",
            "\u001b[0;31mNameError\u001b[0m                                 Traceback (most recent call last)",
            "\u001b[0;32m<ipython-input-20-917904d9ea62>\u001b[0m in \u001b[0;36m<module>\u001b[0;34m()\u001b[0m\n\u001b[1;32m      4\u001b[0m   \u001b[0mn\u001b[0m \u001b[0;34m=\u001b[0m \u001b[0mint\u001b[0m\u001b[0;34m(\u001b[0m\u001b[0minput\u001b[0m\u001b[0;34m(\u001b[0m\u001b[0;34m\"Enter the number\"\u001b[0m\u001b[0;34m)\u001b[0m\u001b[0;34m)\u001b[0m\u001b[0;34m\u001b[0m\u001b[0;34m\u001b[0m\u001b[0m\n\u001b[1;32m      5\u001b[0m \u001b[0msumofn\u001b[0m\u001b[0;34m=\u001b[0m\u001b[0;36m0\u001b[0m\u001b[0;34m\u001b[0m\u001b[0;34m\u001b[0m\u001b[0m\n\u001b[0;32m----> 6\u001b[0;31m \u001b[0;32mfor\u001b[0m \u001b[0mi\u001b[0m \u001b[0;32min\u001b[0m \u001b[0mrange\u001b[0m\u001b[0;34m(\u001b[0m\u001b[0mn\u001b[0m\u001b[0;34m+\u001b[0m\u001b[0;36m1\u001b[0m\u001b[0;34m)\u001b[0m\u001b[0;34m:\u001b[0m\u001b[0;34m\u001b[0m\u001b[0;34m\u001b[0m\u001b[0m\n\u001b[0m\u001b[1;32m      7\u001b[0m   \u001b[0msumofn\u001b[0m \u001b[0;34m+=\u001b[0m\u001b[0mi\u001b[0m\u001b[0;34m\u001b[0m\u001b[0;34m\u001b[0m\u001b[0m\n\u001b[1;32m      8\u001b[0m \u001b[0;32mreturn\u001b[0m \u001b[0msumofn\u001b[0m\u001b[0;34m\u001b[0m\u001b[0;34m\u001b[0m\u001b[0m\n",
            "\u001b[0;31mNameError\u001b[0m: name 'n' is not defined"
          ]
        }
      ]
    },
    {
      "cell_type": "code",
      "metadata": {
        "id": "odyX3vH7YE7-",
        "outputId": "c30e42d7-4cb6-432e-a873-0a2380a3e73b",
        "colab": {
          "base_uri": "https://localhost:8080/",
          "height": 166
        }
      },
      "source": [
        "n=20\n",
        "totalnumbers = n\n",
        "sum=0\n",
        "def Sum(n) :\n",
        " while(n>=0) :\n",
        "  sum+=n\n",
        "  n-=1\n",
        " \n",
        "return sum"
      ],
      "execution_count": null,
      "outputs": [
        {
          "output_type": "error",
          "ename": "SyntaxError",
          "evalue": "ignored",
          "traceback": [
            "\u001b[0;36m  File \u001b[0;32m\"<ipython-input-38-4b150952c7e6>\"\u001b[0;36m, line \u001b[0;32m9\u001b[0m\n\u001b[0;31m    return sum\u001b[0m\n\u001b[0m              ^\u001b[0m\n\u001b[0;31mSyntaxError\u001b[0m\u001b[0;31m:\u001b[0m 'return' outside function\n"
          ]
        }
      ]
    },
    {
      "cell_type": "markdown",
      "metadata": {
        "id": "8xzlMUuzaU1T"
      },
      "source": [
        "4"
      ]
    },
    {
      "cell_type": "code",
      "metadata": {
        "id": "Om5OTzHeaZgI",
        "outputId": "ef058ee0-6b11-46f3-dcbe-051d70730188",
        "colab": {
          "base_uri": "https://localhost:8080/"
        }
      },
      "source": [
        "a = lambda X : X*2\n",
        "print(a(2))"
      ],
      "execution_count": null,
      "outputs": [
        {
          "output_type": "stream",
          "text": [
            "4\n"
          ],
          "name": "stdout"
        }
      ]
    },
    {
      "cell_type": "markdown",
      "metadata": {
        "id": "oZOofS0pbHDU"
      },
      "source": [
        "6"
      ]
    },
    {
      "cell_type": "code",
      "metadata": {
        "id": "txfYVWSEbI21",
        "outputId": "e6c7bce7-5d6c-47ca-8416-848c1d7213ad",
        "colab": {
          "base_uri": "https://localhost:8080/",
          "height": 339
        }
      },
      "source": [
        "def reverseno(n):\n",
        " n=int(input(\"Enter the number\"))\n",
        " Reverse=0\n",
        " digitsum=0\n",
        " while(n>0) :\n",
        "  Reminder = n%10\n",
        "  Reverse = (Reverse*10)+Reminder\n",
        "  digitsum = digitsum + Reminder\n",
        "  n=n//10\n",
        "print(Reverse)\n",
        "print(digitsum)"
      ],
      "execution_count": null,
      "outputs": [
        {
          "output_type": "error",
          "ename": "NameError",
          "evalue": "ignored",
          "traceback": [
            "\u001b[0;31m---------------------------------------------------------------------------\u001b[0m",
            "\u001b[0;31mNameError\u001b[0m                                 Traceback (most recent call last)",
            "\u001b[0;32m<ipython-input-45-db776e381b13>\u001b[0m in \u001b[0;36m<module>\u001b[0;34m()\u001b[0m\n\u001b[1;32m      8\u001b[0m   \u001b[0mdigitsum\u001b[0m \u001b[0;34m=\u001b[0m \u001b[0mdigitsum\u001b[0m \u001b[0;34m+\u001b[0m \u001b[0mReminder\u001b[0m\u001b[0;34m\u001b[0m\u001b[0;34m\u001b[0m\u001b[0m\n\u001b[1;32m      9\u001b[0m   \u001b[0mn\u001b[0m\u001b[0;34m=\u001b[0m\u001b[0mn\u001b[0m\u001b[0;34m//\u001b[0m\u001b[0;36m10\u001b[0m\u001b[0;34m\u001b[0m\u001b[0;34m\u001b[0m\u001b[0m\n\u001b[0;32m---> 10\u001b[0;31m \u001b[0mprint\u001b[0m\u001b[0;34m(\u001b[0m\u001b[0mReverse\u001b[0m\u001b[0;34m)\u001b[0m\u001b[0;34m\u001b[0m\u001b[0;34m\u001b[0m\u001b[0m\n\u001b[0m\u001b[1;32m     11\u001b[0m \u001b[0mprint\u001b[0m\u001b[0;34m(\u001b[0m\u001b[0mdigitsum\u001b[0m\u001b[0;34m)\u001b[0m\u001b[0;34m\u001b[0m\u001b[0;34m\u001b[0m\u001b[0m\n",
            "\u001b[0;31mNameError\u001b[0m: name 'Reverse' is not defined"
          ]
        }
      ]
    },
    {
      "cell_type": "markdown",
      "metadata": {
        "id": "BtubpjRMeg3C"
      },
      "source": [
        ""
      ]
    },
    {
      "cell_type": "code",
      "metadata": {
        "id": "vNxGoGxlf3k4",
        "outputId": "ebdec069-9b72-4698-c037-08367ee54ae7",
        "colab": {
          "base_uri": "https://localhost:8080/"
        }
      },
      "source": [
        "def factorial(x) :\n",
        " if x==1 :\n",
        "   return 1\n",
        " else :\n",
        "    return(x*factorial (x-1))\n",
        "num = int(input(\"Enter the number\"))\n",
        "print(\"The factorial of \", num,\"is\", factorial(num))"
      ],
      "execution_count": null,
      "outputs": [
        {
          "output_type": "stream",
          "text": [
            "Enter the number5\n",
            "The factorial of  5 is 120\n"
          ],
          "name": "stdout"
        }
      ]
    },
    {
      "cell_type": "markdown",
      "metadata": {
        "id": "t22cpeN1hksF"
      },
      "source": [
        "7"
      ]
    },
    {
      "cell_type": "code",
      "metadata": {
        "id": "vyHeqegehlcO"
      },
      "source": [
        "def countoccurences(string,substring):\n",
        "  count=0\n",
        "  start=0\n",
        "  while start<Len(string) :\n",
        "    pos=string.find(substring,start)\n",
        "    if pos!=-1 :\n",
        "      start = pos+1\n",
        "      count+=1\n",
        "    else :\n",
        "     break\n",
        "    return count\n",
        "  string = \"HiHelloHeyHi\"\n",
        "  print(countoccurences(string,\"Hi\"))"
      ],
      "execution_count": null,
      "outputs": []
    },
    {
      "cell_type": "markdown",
      "metadata": {
        "id": "wiR8YhGpasQZ"
      },
      "source": [
        ""
      ]
    }
  ]
}