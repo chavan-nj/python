{
  "nbformat": 4,
  "nbformat_minor": 0,
  "metadata": {
    "colab": {
      "name": "Tryorexcept.ipynb",
      "provenance": [],
      "include_colab_link": true
    },
    "kernelspec": {
      "name": "python3",
      "display_name": "Python 3"
    }
  },
  "cells": [
    {
      "cell_type": "markdown",
      "metadata": {
        "id": "view-in-github",
        "colab_type": "text"
      },
      "source": [
        "<a href=\"https://colab.research.google.com/github/chavan-nj/python/blob/master/Tryorexcept.ipynb\" target=\"_parent\"><img src=\"https://colab.research.google.com/assets/colab-badge.svg\" alt=\"Open In Colab\"/></a>"
      ]
    },
    {
      "cell_type": "code",
      "metadata": {
        "id": "XMZhRjnjxgUt"
      },
      "source": [
        " from math import factorial\n",
        "num=int(input(\"enter the number\"))\n",
        "if num==0:\n",
        "    print(\"Zero is neither positive nor negative\")\n",
        "    \n",
        "else:\n",
        "try:\n",
        "  \n",
        "   factorial(num)\n",
        "   print(\"The num is positive\")\n",
        "  \n",
        " \n",
        "except:\n",
        "   print(\"The num is negative\")"
      ],
      "execution_count": null,
      "outputs": []
    }
  ]
}